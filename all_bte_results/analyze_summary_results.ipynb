{
 "cells": [
  {
   "cell_type": "markdown",
   "id": "445bd155",
   "metadata": {},
   "source": [
    "### Import libraries"
   ]
  },
  {
   "cell_type": "code",
   "execution_count": 1,
   "id": "c1ed90f5",
   "metadata": {},
   "outputs": [],
   "source": [
    "import pandas as pd\n",
    "import matplotlib.pyplot as plt\n",
    "from matplotlib import pyplot as plt\n",
    "from functools import reduce\n",
    "#Venn\n",
    "from matplotlib_venn import venn3, venn3_circles\n",
    "from matplotlib_venn import venn2, venn2_circles\n",
    "#upset\n",
    "import upsetplot\n",
    "from upsetplot import from_contents\n",
    "from upsetplot import UpSet\n",
    "from upsetplot import generate_counts, plot"
   ]
  },
  {
   "cell_type": "markdown",
   "id": "531235d6",
   "metadata": {},
   "source": [
    "### Merge data frames"
   ]
  },
  {
   "cell_type": "code",
   "execution_count": 80,
   "id": "65f67321",
   "metadata": {},
   "outputs": [],
   "source": [
    "data1 = pd.read_csv(\"disease-smallMolecule-Copy1.csv\")\n",
    "data1 = data1.dropna()\n",
    "data1.rename(columns = {'has hit':'disease-smallMolecule'}, inplace = True)\n",
    "\n",
    "data2= pd.read_csv(\"disease-gene-smallMolecule-Copy1.csv\")\n",
    "data2.rename(columns = {'has hit':'disease-gene-smallMolecule'}, inplace = True)\n",
    "\n",
    "data3= pd.read_csv(\"disease-phenotype-SmallMolecule-Copy1.csv\")\n",
    "data3.rename(columns = {'has hit':'disease-phenotype-SmallMolecule'}, inplace = True)\n",
    "\n",
    "data4=pd.read_csv(\"disease-phenotype-gene-smallMolecule-Copy1.csv\")\n",
    "data4.rename(columns = {'has hit':'disease-phenotype-gene-smallMolecule'}, inplace = True)\n",
    "\n",
    "data5 =pd.read_csv(\"disease-variant-gene-smallMolecule-Copy1.csv\")\n",
    "data5.rename(columns = {'has hit':'disease-variant-gene-smallMolecule'}, inplace = True)\n",
    "\n",
    "\n",
    "data6 = pd.read_csv(\"disease-BiologicalProcess-smallMolecule-Copy1.csv\")\n",
    "data6.rename(columns = {'has hit':'disease-BiologicalProcess-smallMolecule'}, inplace = True)"
   ]
  },
  {
   "cell_type": "code",
   "execution_count": 81,
   "id": "d141bf47",
   "metadata": {},
   "outputs": [],
   "source": [
    "dfs= [data1,data2,data3, data4, data5, data6]\n",
    "df_final = reduce(lambda df1,df2: pd.merge(df1, df2,on=('mondo id', \"chembl id\")), dfs)"
   ]
  },
  {
   "cell_type": "code",
   "execution_count": 82,
   "id": "113c4151",
   "metadata": {},
   "outputs": [
    {
     "data": {
      "text/html": [
       "<div>\n",
       "<style scoped>\n",
       "    .dataframe tbody tr th:only-of-type {\n",
       "        vertical-align: middle;\n",
       "    }\n",
       "\n",
       "    .dataframe tbody tr th {\n",
       "        vertical-align: top;\n",
       "    }\n",
       "\n",
       "    .dataframe thead th {\n",
       "        text-align: right;\n",
       "    }\n",
       "</style>\n",
       "<table border=\"1\" class=\"dataframe\">\n",
       "  <thead>\n",
       "    <tr style=\"text-align: right;\">\n",
       "      <th></th>\n",
       "      <th>mondo id</th>\n",
       "      <th>chembl id</th>\n",
       "      <th>disease-smallMolecule</th>\n",
       "      <th>disease-gene-smallMolecule</th>\n",
       "      <th>disease-phenotype-SmallMolecule</th>\n",
       "      <th>disease-phenotype-gene-smallMolecule</th>\n",
       "      <th>disease-variant-gene-smallMolecule</th>\n",
       "      <th>disease-BiologicalProcess-smallMolecule</th>\n",
       "    </tr>\n",
       "  </thead>\n",
       "  <tbody>\n",
       "    <tr>\n",
       "      <th>0</th>\n",
       "      <td>MONDO:0016241</td>\n",
       "      <td>CHEMBL30008</td>\n",
       "      <td>True</td>\n",
       "      <td>True</td>\n",
       "      <td>True</td>\n",
       "      <td>True</td>\n",
       "      <td>False</td>\n",
       "      <td>False</td>\n",
       "    </tr>\n",
       "    <tr>\n",
       "      <th>1</th>\n",
       "      <td>MONDO:0009971</td>\n",
       "      <td>CHEMBL1472</td>\n",
       "      <td>True</td>\n",
       "      <td>True</td>\n",
       "      <td>True</td>\n",
       "      <td>True</td>\n",
       "      <td>True</td>\n",
       "      <td>False</td>\n",
       "    </tr>\n",
       "    <tr>\n",
       "      <th>2</th>\n",
       "      <td>MONDO:0009971</td>\n",
       "      <td>CHEMBL1201622</td>\n",
       "      <td>True</td>\n",
       "      <td>False</td>\n",
       "      <td>False</td>\n",
       "      <td>False</td>\n",
       "      <td>False</td>\n",
       "      <td>False</td>\n",
       "    </tr>\n",
       "    <tr>\n",
       "      <th>3</th>\n",
       "      <td>MONDO:0009971</td>\n",
       "      <td>CHEMBL1201447</td>\n",
       "      <td>True</td>\n",
       "      <td>False</td>\n",
       "      <td>False</td>\n",
       "      <td>False</td>\n",
       "      <td>False</td>\n",
       "      <td>False</td>\n",
       "    </tr>\n",
       "    <tr>\n",
       "      <th>4</th>\n",
       "      <td>MONDO:0009971</td>\n",
       "      <td>CHEMBL1201624</td>\n",
       "      <td>True</td>\n",
       "      <td>False</td>\n",
       "      <td>False</td>\n",
       "      <td>False</td>\n",
       "      <td>False</td>\n",
       "      <td>False</td>\n",
       "    </tr>\n",
       "  </tbody>\n",
       "</table>\n",
       "</div>"
      ],
      "text/plain": [
       "        mondo id      chembl id disease-smallMolecule  \\\n",
       "0  MONDO:0016241    CHEMBL30008                  True   \n",
       "1  MONDO:0009971     CHEMBL1472                  True   \n",
       "2  MONDO:0009971  CHEMBL1201622                  True   \n",
       "3  MONDO:0009971  CHEMBL1201447                  True   \n",
       "4  MONDO:0009971  CHEMBL1201624                  True   \n",
       "\n",
       "  disease-gene-smallMolecule  disease-phenotype-SmallMolecule  \\\n",
       "0                       True                             True   \n",
       "1                       True                             True   \n",
       "2                      False                            False   \n",
       "3                      False                            False   \n",
       "4                      False                            False   \n",
       "\n",
       "  disease-phenotype-gene-smallMolecule disease-variant-gene-smallMolecule  \\\n",
       "0                                 True                              False   \n",
       "1                                 True                               True   \n",
       "2                                False                              False   \n",
       "3                                False                              False   \n",
       "4                                False                              False   \n",
       "\n",
       "   disease-BiologicalProcess-smallMolecule  \n",
       "0                                    False  \n",
       "1                                    False  \n",
       "2                                    False  \n",
       "3                                    False  \n",
       "4                                    False  "
      ]
     },
     "execution_count": 82,
     "metadata": {},
     "output_type": "execute_result"
    }
   ],
   "source": [
    "df_final.head()"
   ]
  },
  {
   "cell_type": "code",
   "execution_count": 83,
   "id": "25f7b320",
   "metadata": {},
   "outputs": [],
   "source": [
    "#There are some True, False values that were save differently \n",
    "df_final.loc[df_final['disease-phenotype-SmallMolecule'].isin([True]),'disease-phenotype-SmallMolecule'] = 'True'\n",
    "df_final.loc[df_final['disease-phenotype-SmallMolecule'].isin([False]),'disease-phenotype-SmallMolecule'] = 'False'\n",
    "\n",
    "df_final.loc[df_final['disease-BiologicalProcess-smallMolecule'].isin([False]),'disease-BiologicalProcess-smallMolecule'] = 'False'\n",
    "df_final.loc[df_final['disease-BiologicalProcess-smallMolecule'].isin([True]),'disease-BiologicalProcess-smallMolecule'] = 'True'\n",
    "\n"
   ]
  },
  {
   "cell_type": "code",
   "execution_count": 84,
   "id": "cb5ff289",
   "metadata": {},
   "outputs": [
    {
     "data": {
      "text/plain": [
       "Index(['mondo id', 'chembl id', 'disease-smallMolecule',\n",
       "       'disease-gene-smallMolecule', 'disease-phenotype-SmallMolecule',\n",
       "       'disease-phenotype-gene-smallMolecule',\n",
       "       'disease-variant-gene-smallMolecule',\n",
       "       'disease-BiologicalProcess-smallMolecule'],\n",
       "      dtype='object')"
      ]
     },
     "execution_count": 84,
     "metadata": {},
     "output_type": "execute_result"
    }
   ],
   "source": [
    "df_final.columns"
   ]
  },
  {
   "cell_type": "code",
   "execution_count": 85,
   "id": "3fc5e3dd",
   "metadata": {},
   "outputs": [],
   "source": [
    "new1 = df_final[\"disease-smallMolecule\"].value_counts().to_frame()\n",
    "new2 = df_final[\"disease-gene-smallMolecule\"].value_counts().to_frame()\n",
    "new3 = df_final[\"disease-phenotype-SmallMolecule\"].value_counts().to_frame()\n",
    "new4 = df_final[\"disease-phenotype-gene-smallMolecule\"].value_counts().to_frame()\n",
    "new5 = df_final[\"disease-variant-gene-smallMolecule\"].value_counts().to_frame()\n",
    "new6 = df_final[\"disease-BiologicalProcess-smallMolecule\"].value_counts().to_frame()"
   ]
  },
  {
   "cell_type": "code",
   "execution_count": 86,
   "id": "a3a8d284",
   "metadata": {
    "scrolled": true
   },
   "outputs": [
    {
     "data": {
      "text/html": [
       "<div>\n",
       "<style scoped>\n",
       "    .dataframe tbody tr th:only-of-type {\n",
       "        vertical-align: middle;\n",
       "    }\n",
       "\n",
       "    .dataframe tbody tr th {\n",
       "        vertical-align: top;\n",
       "    }\n",
       "\n",
       "    .dataframe thead th {\n",
       "        text-align: right;\n",
       "    }\n",
       "</style>\n",
       "<table border=\"1\" class=\"dataframe\">\n",
       "  <thead>\n",
       "    <tr style=\"text-align: right;\">\n",
       "      <th></th>\n",
       "      <th>disease-smallMolecule</th>\n",
       "      <th>disease-gene-smallMolecule</th>\n",
       "      <th>disease-phenotype-SmallMolecule</th>\n",
       "      <th>disease-phenotype-gene-smallMolecule</th>\n",
       "      <th>disease-variant-gene-smallMolecule</th>\n",
       "      <th>disease-BiologicalProcess-smallMolecule</th>\n",
       "    </tr>\n",
       "  </thead>\n",
       "  <tbody>\n",
       "    <tr>\n",
       "      <th>True</th>\n",
       "      <td>673</td>\n",
       "      <td>854</td>\n",
       "      <td>385.0</td>\n",
       "      <td>883</td>\n",
       "      <td>203</td>\n",
       "      <td>116.0</td>\n",
       "    </tr>\n",
       "    <tr>\n",
       "      <th>False</th>\n",
       "      <td>559</td>\n",
       "      <td>392</td>\n",
       "      <td>863.0</td>\n",
       "      <td>353</td>\n",
       "      <td>1031</td>\n",
       "      <td>1132.0</td>\n",
       "    </tr>\n",
       "    <tr>\n",
       "      <th>Request error</th>\n",
       "      <td>16</td>\n",
       "      <td>2</td>\n",
       "      <td>NaN</td>\n",
       "      <td>12</td>\n",
       "      <td>14</td>\n",
       "      <td>NaN</td>\n",
       "    </tr>\n",
       "  </tbody>\n",
       "</table>\n",
       "</div>"
      ],
      "text/plain": [
       "               disease-smallMolecule  disease-gene-smallMolecule  \\\n",
       "True                             673                         854   \n",
       "False                            559                         392   \n",
       "Request error                     16                           2   \n",
       "\n",
       "               disease-phenotype-SmallMolecule  \\\n",
       "True                                     385.0   \n",
       "False                                    863.0   \n",
       "Request error                              NaN   \n",
       "\n",
       "               disease-phenotype-gene-smallMolecule  \\\n",
       "True                                            883   \n",
       "False                                           353   \n",
       "Request error                                    12   \n",
       "\n",
       "               disease-variant-gene-smallMolecule  \\\n",
       "True                                          203   \n",
       "False                                        1031   \n",
       "Request error                                  14   \n",
       "\n",
       "               disease-BiologicalProcess-smallMolecule  \n",
       "True                                             116.0  \n",
       "False                                           1132.0  \n",
       "Request error                                      NaN  "
      ]
     },
     "execution_count": 86,
     "metadata": {},
     "output_type": "execute_result"
    }
   ],
   "source": [
    "result = pd.concat([new1,new2,new3,new4,new5,new6], axis=1)\n",
    "result"
   ]
  },
  {
   "cell_type": "code",
   "execution_count": 95,
   "id": "prescribed-poison",
   "metadata": {},
   "outputs": [],
   "source": [
    "result = result.reindex([\"True\", \"False\", \"Request error\"])\n",
    "result = result.reindex(columns = [\"disease-phenotype-gene-smallMolecule\",\n",
    "                                  \"disease-gene-smallMolecule\",\n",
    "                                  \"disease-smallMolecule\",\n",
    "                                   \"disease-phenotype-SmallMolecule\",\n",
    "                                  \"disease-variant-gene-smallMolecule\",\n",
    "                                  \"disease-BiologicalProcess-smallMolecule\"])"
   ]
  },
  {
   "cell_type": "code",
   "execution_count": 96,
   "id": "ac5a4d6a",
   "metadata": {},
   "outputs": [
    {
     "data": {
      "text/html": [
       "<div>\n",
       "<style scoped>\n",
       "    .dataframe tbody tr th:only-of-type {\n",
       "        vertical-align: middle;\n",
       "    }\n",
       "\n",
       "    .dataframe tbody tr th {\n",
       "        vertical-align: top;\n",
       "    }\n",
       "\n",
       "    .dataframe thead th {\n",
       "        text-align: right;\n",
       "    }\n",
       "</style>\n",
       "<table border=\"1\" class=\"dataframe\">\n",
       "  <thead>\n",
       "    <tr style=\"text-align: right;\">\n",
       "      <th></th>\n",
       "      <th>disease-phenotype-gene-smallMolecule</th>\n",
       "      <th>disease-gene-smallMolecule</th>\n",
       "      <th>disease-smallMolecule</th>\n",
       "      <th>disease-phenotype-SmallMolecule</th>\n",
       "      <th>disease-variant-gene-smallMolecule</th>\n",
       "      <th>disease-BiologicalProcess-smallMolecule</th>\n",
       "    </tr>\n",
       "  </thead>\n",
       "  <tbody>\n",
       "    <tr>\n",
       "      <th>True</th>\n",
       "      <td>883</td>\n",
       "      <td>854</td>\n",
       "      <td>673</td>\n",
       "      <td>385.0</td>\n",
       "      <td>203</td>\n",
       "      <td>116.0</td>\n",
       "    </tr>\n",
       "    <tr>\n",
       "      <th>False</th>\n",
       "      <td>353</td>\n",
       "      <td>392</td>\n",
       "      <td>559</td>\n",
       "      <td>863.0</td>\n",
       "      <td>1031</td>\n",
       "      <td>1132.0</td>\n",
       "    </tr>\n",
       "    <tr>\n",
       "      <th>Request error</th>\n",
       "      <td>12</td>\n",
       "      <td>2</td>\n",
       "      <td>16</td>\n",
       "      <td>NaN</td>\n",
       "      <td>14</td>\n",
       "      <td>NaN</td>\n",
       "    </tr>\n",
       "  </tbody>\n",
       "</table>\n",
       "</div>"
      ],
      "text/plain": [
       "               disease-phenotype-gene-smallMolecule  \\\n",
       "True                                            883   \n",
       "False                                           353   \n",
       "Request error                                    12   \n",
       "\n",
       "               disease-gene-smallMolecule  disease-smallMolecule  \\\n",
       "True                                  854                    673   \n",
       "False                                 392                    559   \n",
       "Request error                           2                     16   \n",
       "\n",
       "               disease-phenotype-SmallMolecule  \\\n",
       "True                                     385.0   \n",
       "False                                    863.0   \n",
       "Request error                              NaN   \n",
       "\n",
       "               disease-variant-gene-smallMolecule  \\\n",
       "True                                          203   \n",
       "False                                        1031   \n",
       "Request error                                  14   \n",
       "\n",
       "               disease-BiologicalProcess-smallMolecule  \n",
       "True                                             116.0  \n",
       "False                                           1132.0  \n",
       "Request error                                      NaN  "
      ]
     },
     "execution_count": 96,
     "metadata": {},
     "output_type": "execute_result"
    }
   ],
   "source": [
    "result"
   ]
  },
  {
   "cell_type": "code",
   "execution_count": 97,
   "id": "387fb648",
   "metadata": {
    "scrolled": true
   },
   "outputs": [
    {
     "data": {
      "image/png": "[encoded data removed]",
      "text/plain": [
       "<Figure size 432x288 with 1 Axes>"
      ]
     },
     "metadata": {
      "needs_background": "light"
     },
     "output_type": "display_data"
    }
   ],
   "source": [
    "g = result.T.plot(kind='barh', stacked=True, colormap = \"viridis\")\n",
    "g.legend(loc='center left', bbox_to_anchor=(1, 0.5))\n",
    "plt.savefig('plot-summary.png', dpi=300, bbox_inches='tight')"
   ]
  },
  {
   "cell_type": "code",
   "execution_count": null,
   "id": "85c24e90",
   "metadata": {},
   "outputs": [],
   "source": []
  },
  {
   "cell_type": "code",
   "execution_count": null,
   "id": "b8c17537",
   "metadata": {},
   "outputs": [],
   "source": []
  },
  {
   "cell_type": "code",
   "execution_count": null,
   "id": "0c9a77cd",
   "metadata": {},
   "outputs": [],
   "source": []
  },
  {
   "cell_type": "markdown",
   "id": "0f9376d7",
   "metadata": {},
   "source": [
    "### Veen Diagram"
   ]
  },
  {
   "cell_type": "markdown",
   "id": "81718e40",
   "metadata": {},
   "source": [
    "Example intersection 3 meta-paths "
   ]
  },
  {
   "cell_type": "code",
   "execution_count": 90,
   "id": "30daea41",
   "metadata": {},
   "outputs": [],
   "source": [
    "dis_mol_li= set()\n",
    "dis_gene_mol_li = set()\n",
    "dis_phe_mol_li = set()\n",
    "\n",
    "\n",
    "for mondo,chembl,a,b,c in zip(df_final[\"mondo id\"], df_final[\"chembl id\"],\n",
    "    df_final[\"disease-smallMolecule\"],df_final[\"disease-gene-smallMolecule\"], df_final[\"disease-phenotype-gene-smallMolecule\"]):\n",
    "    if a == \"True\":\n",
    "        dis_mol_li.add(f\"{mondo,chembl}\")\n",
    "    if b == \"True\":\n",
    "        dis_gene_mol_li.add(f\"{mondo,chembl}\")\n",
    "    if c == \"True\":\n",
    "        dis_phe_mol_li.add(f\"{mondo,chembl}\")"
   ]
  },
  {
   "cell_type": "code",
   "execution_count": 91,
   "id": "5bc8d24e",
   "metadata": {},
   "outputs": [
    {
     "data": {
      "image/png": "[encoded data removed]",
      "text/plain": [
       "<Figure size 432x288 with 1 Axes>"
      ]
     },
     "metadata": {},
     "output_type": "display_data"
    }
   ],
   "source": [
    "out = venn3([dis_mol_li, dis_gene_mol_li, dis_phe_mol_li], ( \"Disease-Compound\",'Disease-Gene-Compound', 'Disease-Phenotype-gene-Compound'))"
   ]
  },
  {
   "cell_type": "code",
   "execution_count": null,
   "id": "dc95cedf",
   "metadata": {},
   "outputs": [],
   "source": []
  },
  {
   "cell_type": "code",
   "execution_count": null,
   "id": "0c940ec5",
   "metadata": {},
   "outputs": [],
   "source": []
  },
  {
   "cell_type": "markdown",
   "id": "ae75781c",
   "metadata": {},
   "source": [
    "### Intersection Upsetplot "
   ]
  },
  {
   "cell_type": "code",
   "execution_count": 92,
   "id": "33882ee7",
   "metadata": {},
   "outputs": [],
   "source": [
    "dis_mol_li= set()\n",
    "dis_gene_mol_li = set()\n",
    "dis_phe_mol_li = set()\n",
    "dis_phe_gene_mol_li = set()\n",
    "dis_var_mol_li = set()\n",
    "dis_biopro_mol_li = set()\n",
    "\n",
    "\n",
    "for mondo,chembl,a,b,c,d,e,f in zip(df_final[\"mondo id\"], df_final[\"chembl id\"],\n",
    "                              df_final[\"disease-smallMolecule\"],\n",
    "                              df_final[\"disease-gene-smallMolecule\"], \n",
    "                              df_final[\"disease-phenotype-SmallMolecule\"],\n",
    "                              df_final[\"disease-phenotype-gene-smallMolecule\"],\n",
    "                              df_final[\"disease-variant-gene-smallMolecule\"],\n",
    "                              df_final[\"disease-BiologicalProcess-smallMolecule\"]):\n",
    "    if a == \"True\":\n",
    "        dis_mol_li.add(f\"{mondo,chembl}\")\n",
    "    if b == \"True\":\n",
    "        dis_gene_mol_li.add(f\"{mondo,chembl}\")\n",
    "    if c == \"True\":\n",
    "        dis_phe_mol_li.add(f\"{mondo,chembl}\")\n",
    "    if d == \"True\":\n",
    "        dis_phe_gene_mol_li.add(f\"{mondo,chembl}\")\n",
    "    if e == \"True\":\n",
    "        dis_var_mol_li.add(f\"{mondo,chembl}\")\n",
    "    if f == \"True\":\n",
    "        dis_biopro_mol_li.add(f\"{mondo,chembl}\")\n"
   ]
  },
  {
   "cell_type": "code",
   "execution_count": 93,
   "id": "141e3d2e",
   "metadata": {},
   "outputs": [
    {
     "data": {
      "text/html": [
       "<div>\n",
       "<style scoped>\n",
       "    .dataframe tbody tr th:only-of-type {\n",
       "        vertical-align: middle;\n",
       "    }\n",
       "\n",
       "    .dataframe tbody tr th {\n",
       "        vertical-align: top;\n",
       "    }\n",
       "\n",
       "    .dataframe thead th {\n",
       "        text-align: right;\n",
       "    }\n",
       "</style>\n",
       "<table border=\"1\" class=\"dataframe\">\n",
       "  <thead>\n",
       "    <tr style=\"text-align: right;\">\n",
       "      <th></th>\n",
       "      <th></th>\n",
       "      <th></th>\n",
       "      <th></th>\n",
       "      <th></th>\n",
       "      <th></th>\n",
       "      <th>id</th>\n",
       "    </tr>\n",
       "    <tr>\n",
       "      <th>Disease-Compound</th>\n",
       "      <th>Disease-Gene-Compound</th>\n",
       "      <th>Disease-Pheno-Compound</th>\n",
       "      <th>Disease-Pheno-Gene-Compound</th>\n",
       "      <th>Disease-variant-Compound</th>\n",
       "      <th>Disease-BiologicalProcess-Compound</th>\n",
       "      <th></th>\n",
       "    </tr>\n",
       "  </thead>\n",
       "  <tbody>\n",
       "    <tr>\n",
       "      <th rowspan=\"5\" valign=\"top\">True</th>\n",
       "      <th>False</th>\n",
       "      <th>False</th>\n",
       "      <th>True</th>\n",
       "      <th>False</th>\n",
       "      <th>False</th>\n",
       "      <td>('MONDO:0004976', 'CHEMBL1794791')</td>\n",
       "    </tr>\n",
       "    <tr>\n",
       "      <th rowspan=\"2\" valign=\"top\">True</th>\n",
       "      <th>False</th>\n",
       "      <th>True</th>\n",
       "      <th>False</th>\n",
       "      <th>False</th>\n",
       "      <td>('MONDO:0004967', 'CHEMBL1200751')</td>\n",
       "    </tr>\n",
       "    <tr>\n",
       "      <th>True</th>\n",
       "      <th>True</th>\n",
       "      <th>True</th>\n",
       "      <th>True</th>\n",
       "      <td>('MONDO:0011996', 'CHEMBL255863')</td>\n",
       "    </tr>\n",
       "    <tr>\n",
       "      <th rowspan=\"2\" valign=\"top\">False</th>\n",
       "      <th rowspan=\"2\" valign=\"top\">False</th>\n",
       "      <th>True</th>\n",
       "      <th>False</th>\n",
       "      <th>False</th>\n",
       "      <td>('MONDO:0010789', 'CHEMBL252556')</td>\n",
       "    </tr>\n",
       "    <tr>\n",
       "      <th>False</th>\n",
       "      <th>False</th>\n",
       "      <th>False</th>\n",
       "      <td>('MONDO:0009693', 'CHEMBL4297403')</td>\n",
       "    </tr>\n",
       "    <tr>\n",
       "      <th>...</th>\n",
       "      <th>...</th>\n",
       "      <th>...</th>\n",
       "      <th>...</th>\n",
       "      <th>...</th>\n",
       "      <th>...</th>\n",
       "      <td>...</td>\n",
       "    </tr>\n",
       "    <tr>\n",
       "      <th rowspan=\"5\" valign=\"top\">False</th>\n",
       "      <th rowspan=\"5\" valign=\"top\">False</th>\n",
       "      <th rowspan=\"5\" valign=\"top\">False</th>\n",
       "      <th rowspan=\"5\" valign=\"top\">True</th>\n",
       "      <th rowspan=\"5\" valign=\"top\">False</th>\n",
       "      <th>False</th>\n",
       "      <td>('MONDO:0012579', 'CHEMBL4297322')</td>\n",
       "    </tr>\n",
       "    <tr>\n",
       "      <th>False</th>\n",
       "      <td>('MONDO:0000984', 'CHEMBL2311128')</td>\n",
       "    </tr>\n",
       "    <tr>\n",
       "      <th>False</th>\n",
       "      <td>('MONDO:0020121', 'CHEMBL1232111')</td>\n",
       "    </tr>\n",
       "    <tr>\n",
       "      <th>False</th>\n",
       "      <td>('MONDO:0012579', 'CHEMBL2109134')</td>\n",
       "    </tr>\n",
       "    <tr>\n",
       "      <th>False</th>\n",
       "      <td>('MONDO:0019471', 'CHEMBL550755')</td>\n",
       "    </tr>\n",
       "  </tbody>\n",
       "</table>\n",
       "<p>1045 rows × 1 columns</p>\n",
       "</div>"
      ],
      "text/plain": [
       "                                                                                                                                                                                       id\n",
       "Disease-Compound Disease-Gene-Compound Disease-Pheno-Compound Disease-Pheno-Gene-Compound Disease-variant-Compound Disease-BiologicalProcess-Compound                                    \n",
       "True             False                 False                  True                        False                    False                               ('MONDO:0004976', 'CHEMBL1794791')\n",
       "                 True                  False                  True                        False                    False                               ('MONDO:0004967', 'CHEMBL1200751')\n",
       "                                       True                   True                        True                     True                                 ('MONDO:0011996', 'CHEMBL255863')\n",
       "                 False                 False                  True                        False                    False                                ('MONDO:0010789', 'CHEMBL252556')\n",
       "                                                              False                       False                    False                               ('MONDO:0009693', 'CHEMBL4297403')\n",
       "...                                                                                                                                                                                   ...\n",
       "False            False                 False                  True                        False                    False                               ('MONDO:0012579', 'CHEMBL4297322')\n",
       "                                                                                                                   False                               ('MONDO:0000984', 'CHEMBL2311128')\n",
       "                                                                                                                   False                               ('MONDO:0020121', 'CHEMBL1232111')\n",
       "                                                                                                                   False                               ('MONDO:0012579', 'CHEMBL2109134')\n",
       "                                                                                                                   False                                ('MONDO:0019471', 'CHEMBL550755')\n",
       "\n",
       "[1045 rows x 1 columns]"
      ]
     },
     "execution_count": 93,
     "metadata": {},
     "output_type": "execute_result"
    }
   ],
   "source": [
    "test1 = from_contents({\"Disease-Compound\": dis_mol_li,\n",
    "                      \"Disease-Gene-Compound\": dis_gene_mol_li, \n",
    "                       \"Disease-Pheno-Compound\": dis_phe_mol_li,\n",
    "                      \"Disease-Pheno-Gene-Compound\": dis_phe_gene_mol_li, \n",
    "                       \"Disease-variant-Compound\": dis_var_mol_li,\n",
    "                       \"Disease-BiologicalProcess-Compound\": dis_biopro_mol_li   \n",
    "})\n",
    "test1"
   ]
  },
  {
   "cell_type": "code",
   "execution_count": 94,
   "id": "f2698916",
   "metadata": {},
   "outputs": [
    {
     "data": {
      "image/png": "[encoded data removed]",
      "text/plain": [
       "<Figure size 1184x384 with 4 Axes>"
      ]
     },
     "metadata": {
      "needs_background": "light"
     },
     "output_type": "display_data"
    }
   ],
   "source": [
    "upsetplot.plot(test1, sort_by=\"cardinality\", show_counts=True)\n",
    "plt.savefig(\"plot.png\",bbox_inches='tight',pad_inches=0, dpi = 300)"
   ]
  },
  {
   "cell_type": "code",
   "execution_count": null,
   "id": "c822b060",
   "metadata": {},
   "outputs": [],
   "source": []
  }
 ],
 "metadata": {
  "kernelspec": {
   "display_name": "wikidata",
   "language": "python",
   "name": "wikidata"
  },
  "language_info": {
   "codemirror_mode": {
    "name": "ipython",
    "version": 3
   },
   "file_extension": ".py",
   "mimetype": "text/x-python",
   "name": "python",
   "nbconvert_exporter": "python",
   "pygments_lexer": "ipython3",
   "version": "3.9.6"
  }
 },
 "nbformat": 4,
 "nbformat_minor": 5
}
