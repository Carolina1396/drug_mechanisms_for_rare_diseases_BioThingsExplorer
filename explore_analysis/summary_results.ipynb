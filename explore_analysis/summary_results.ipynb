{
 "cells": [
  {
   "cell_type": "code",
   "execution_count": 1,
   "id": "3a92680b",
   "metadata": {},
   "outputs": [],
   "source": [
    "#Libraries \n",
    "import pandas as pd\n",
    "import seaborn as sns\n",
    "import matplotlib.pyplot as plt\n",
    "import numpy as np"
   ]
  },
  {
   "cell_type": "code",
   "execution_count": null,
   "id": "128de4a3",
   "metadata": {},
   "outputs": [],
   "source": []
  },
  {
   "cell_type": "markdown",
   "id": "cd2185f1",
   "metadata": {},
   "source": [
    "### Disease-SmallMolecule"
   ]
  },
  {
   "cell_type": "code",
   "execution_count": 2,
   "id": "423d2411",
   "metadata": {},
   "outputs": [
    {
     "data": {
      "text/plain": [
       "1248"
      ]
     },
     "execution_count": 2,
     "metadata": {},
     "output_type": "execute_result"
    }
   ],
   "source": [
    "ds_data = pd.read_csv(\"../output/disease-smallMolecule.csv\")\n",
    "ds_data = ds_data.dropna()\n",
    "ds_data.shape[0]"
   ]
  },
  {
   "cell_type": "code",
   "execution_count": 3,
   "id": "136de05b",
   "metadata": {},
   "outputs": [
    {
     "data": {
      "text/html": [
       "<div>\n",
       "<style scoped>\n",
       "    .dataframe tbody tr th:only-of-type {\n",
       "        vertical-align: middle;\n",
       "    }\n",
       "\n",
       "    .dataframe tbody tr th {\n",
       "        vertical-align: top;\n",
       "    }\n",
       "\n",
       "    .dataframe thead th {\n",
       "        text-align: right;\n",
       "    }\n",
       "</style>\n",
       "<table border=\"1\" class=\"dataframe\">\n",
       "  <thead>\n",
       "    <tr style=\"text-align: right;\">\n",
       "      <th></th>\n",
       "      <th>mondo id</th>\n",
       "      <th>chembl id</th>\n",
       "      <th>has hit</th>\n",
       "    </tr>\n",
       "  </thead>\n",
       "  <tbody>\n",
       "    <tr>\n",
       "      <th>0</th>\n",
       "      <td>MONDO:0016241</td>\n",
       "      <td>CHEMBL30008</td>\n",
       "      <td>True</td>\n",
       "    </tr>\n",
       "    <tr>\n",
       "      <th>2</th>\n",
       "      <td>MONDO:0009971</td>\n",
       "      <td>CHEMBL1472</td>\n",
       "      <td>True</td>\n",
       "    </tr>\n",
       "    <tr>\n",
       "      <th>4</th>\n",
       "      <td>MONDO:0009971</td>\n",
       "      <td>CHEMBL1201622</td>\n",
       "      <td>True</td>\n",
       "    </tr>\n",
       "    <tr>\n",
       "      <th>5</th>\n",
       "      <td>MONDO:0009971</td>\n",
       "      <td>CHEMBL1201447</td>\n",
       "      <td>True</td>\n",
       "    </tr>\n",
       "    <tr>\n",
       "      <th>6</th>\n",
       "      <td>MONDO:0009971</td>\n",
       "      <td>CHEMBL1201624</td>\n",
       "      <td>True</td>\n",
       "    </tr>\n",
       "  </tbody>\n",
       "</table>\n",
       "</div>"
      ],
      "text/plain": [
       "        mondo id      chembl id has hit\n",
       "0  MONDO:0016241    CHEMBL30008    True\n",
       "2  MONDO:0009971     CHEMBL1472    True\n",
       "4  MONDO:0009971  CHEMBL1201622    True\n",
       "5  MONDO:0009971  CHEMBL1201447    True\n",
       "6  MONDO:0009971  CHEMBL1201624    True"
      ]
     },
     "execution_count": 3,
     "metadata": {},
     "output_type": "execute_result"
    }
   ],
   "source": [
    "ds_data.head()"
   ]
  },
  {
   "cell_type": "code",
   "execution_count": 4,
   "id": "52ca5271",
   "metadata": {},
   "outputs": [
    {
     "data": {
      "text/plain": [
       "True             673\n",
       "False            559\n",
       "Request error     16\n",
       "Name: has hit, dtype: int64"
      ]
     },
     "execution_count": 4,
     "metadata": {},
     "output_type": "execute_result"
    }
   ],
   "source": [
    "count = ds_data[\"has hit\"].value_counts()\n",
    "count "
   ]
  },
  {
   "cell_type": "code",
   "execution_count": 5,
   "id": "61583780",
   "metadata": {},
   "outputs": [
    {
     "name": "stderr",
     "output_type": "stream",
     "text": [
      "/home/agonzalez/miniconda3/envs/wikidata/lib/python3.9/site-packages/seaborn/_decorators.py:36: FutureWarning: Pass the following variables as keyword args: x, y. From version 0.12, the only valid positional argument will be `data`, and passing other arguments without an explicit keyword will result in an error or misinterpretation.\n",
      "  warnings.warn(\n"
     ]
    },
    {
     "data": {
      "image/png": "[encoded data removed]",
      "text/plain": [
       "<Figure size 720x360 with 1 Axes>"
      ]
     },
     "metadata": {
      "needs_background": "light"
     },
     "output_type": "display_data"
    }
   ],
   "source": [
    "plt.figure(figsize=(10,5))\n",
    "g =sns.barplot(count.index, count.values, alpha=0.5,  palette = [\"lightseagreen\",\"purple\", \"green\"])\n",
    "plt.title('Disease-Compound')\n",
    "plt.ylabel('Pairs found', fontsize=12)\n",
    "plt.xlabel('Results', fontsize=12)\n",
    "\n",
    "plt.savefig('disease-SmallMolecule.png', dpi = 200)"
   ]
  },
  {
   "cell_type": "markdown",
   "id": "b99f8704",
   "metadata": {},
   "source": [
    "### Disease-Gene-SmallMolecule"
   ]
  },
  {
   "cell_type": "code",
   "execution_count": 30,
   "id": "c2eac4c3",
   "metadata": {},
   "outputs": [],
   "source": [
    "ds_data = pd.read_csv(\"../output/disease-gene-smallMolecule.csv\")"
   ]
  },
  {
   "cell_type": "code",
   "execution_count": 31,
   "id": "802fda7f",
   "metadata": {},
   "outputs": [
    {
     "data": {
      "text/plain": [
       "1248"
      ]
     },
     "execution_count": 31,
     "metadata": {},
     "output_type": "execute_result"
    }
   ],
   "source": [
    "ds_data.shape[0]"
   ]
  },
  {
   "cell_type": "code",
   "execution_count": 32,
   "id": "6164f523",
   "metadata": {},
   "outputs": [
    {
     "data": {
      "text/html": [
       "<div>\n",
       "<style scoped>\n",
       "    .dataframe tbody tr th:only-of-type {\n",
       "        vertical-align: middle;\n",
       "    }\n",
       "\n",
       "    .dataframe tbody tr th {\n",
       "        vertical-align: top;\n",
       "    }\n",
       "\n",
       "    .dataframe thead th {\n",
       "        text-align: right;\n",
       "    }\n",
       "</style>\n",
       "<table border=\"1\" class=\"dataframe\">\n",
       "  <thead>\n",
       "    <tr style=\"text-align: right;\">\n",
       "      <th></th>\n",
       "      <th>mondo id</th>\n",
       "      <th>chembl id</th>\n",
       "      <th>has hit</th>\n",
       "    </tr>\n",
       "  </thead>\n",
       "  <tbody>\n",
       "    <tr>\n",
       "      <th>0</th>\n",
       "      <td>MONDO:0016241</td>\n",
       "      <td>CHEMBL30008</td>\n",
       "      <td>True</td>\n",
       "    </tr>\n",
       "    <tr>\n",
       "      <th>1</th>\n",
       "      <td>MONDO:0009971</td>\n",
       "      <td>CHEMBL1472</td>\n",
       "      <td>True</td>\n",
       "    </tr>\n",
       "    <tr>\n",
       "      <th>2</th>\n",
       "      <td>MONDO:0009971</td>\n",
       "      <td>CHEMBL1201622</td>\n",
       "      <td>False</td>\n",
       "    </tr>\n",
       "    <tr>\n",
       "      <th>3</th>\n",
       "      <td>MONDO:0009971</td>\n",
       "      <td>CHEMBL1201447</td>\n",
       "      <td>False</td>\n",
       "    </tr>\n",
       "    <tr>\n",
       "      <th>4</th>\n",
       "      <td>MONDO:0009971</td>\n",
       "      <td>CHEMBL1201624</td>\n",
       "      <td>False</td>\n",
       "    </tr>\n",
       "  </tbody>\n",
       "</table>\n",
       "</div>"
      ],
      "text/plain": [
       "        mondo id      chembl id has hit\n",
       "0  MONDO:0016241    CHEMBL30008    True\n",
       "1  MONDO:0009971     CHEMBL1472    True\n",
       "2  MONDO:0009971  CHEMBL1201622   False\n",
       "3  MONDO:0009971  CHEMBL1201447   False\n",
       "4  MONDO:0009971  CHEMBL1201624   False"
      ]
     },
     "execution_count": 32,
     "metadata": {},
     "output_type": "execute_result"
    }
   ],
   "source": [
    "ds_data.head()"
   ]
  },
  {
   "cell_type": "code",
   "execution_count": 33,
   "id": "14534e47",
   "metadata": {},
   "outputs": [
    {
     "data": {
      "text/plain": [
       "True             854\n",
       "False            392\n",
       "Request error      2\n",
       "Name: has hit, dtype: int64"
      ]
     },
     "execution_count": 33,
     "metadata": {},
     "output_type": "execute_result"
    }
   ],
   "source": [
    "count =ds_data[\"has hit\"].value_counts()\n",
    "count"
   ]
  },
  {
   "cell_type": "code",
   "execution_count": 34,
   "id": "b91f5e81",
   "metadata": {},
   "outputs": [
    {
     "name": "stderr",
     "output_type": "stream",
     "text": [
      "/home/agonzalez/miniconda3/envs/wikidata/lib/python3.9/site-packages/seaborn/_decorators.py:36: FutureWarning: Pass the following variables as keyword args: x, y. From version 0.12, the only valid positional argument will be `data`, and passing other arguments without an explicit keyword will result in an error or misinterpretation.\n",
      "  warnings.warn(\n"
     ]
    },
    {
     "data": {
      "image/png": "[encoded data removed]",
      "text/plain": [
       "<Figure size 720x360 with 1 Axes>"
      ]
     },
     "metadata": {
      "needs_background": "light"
     },
     "output_type": "display_data"
    }
   ],
   "source": [
    "plt.figure(figsize=(10,5))\n",
    "g =sns.barplot(count.index, count.values, alpha=0.5, palette = [\"lightseagreen\",\"purple\"])\n",
    "plt.title('Disease-Gene-Compound')\n",
    "plt.ylabel('Pairs found', fontsize=12)\n",
    "plt.xlabel('Results', fontsize=12)\n",
    "\n",
    "plt.savefig('disease-Gene-SmallMolecule.png', dpi = 200)"
   ]
  },
  {
   "cell_type": "code",
   "execution_count": null,
   "id": "c1e4ee6b",
   "metadata": {},
   "outputs": [],
   "source": []
  },
  {
   "cell_type": "markdown",
   "id": "c01b3528",
   "metadata": {},
   "source": [
    "### Disease-Pheno-SmallMolecule"
   ]
  },
  {
   "cell_type": "code",
   "execution_count": 2,
   "id": "f2d71ffc",
   "metadata": {},
   "outputs": [],
   "source": [
    "ds_data = pd.read_csv(\"../output/disease-phenotype-SmallMolecule.csv\")"
   ]
  },
  {
   "cell_type": "code",
   "execution_count": 3,
   "id": "aaa523a4",
   "metadata": {},
   "outputs": [
    {
     "data": {
      "text/plain": [
       "1248"
      ]
     },
     "execution_count": 3,
     "metadata": {},
     "output_type": "execute_result"
    }
   ],
   "source": [
    "ds_data.shape[0]"
   ]
  },
  {
   "cell_type": "code",
   "execution_count": 4,
   "id": "43074f81",
   "metadata": {},
   "outputs": [
    {
     "data": {
      "text/html": [
       "<div>\n",
       "<style scoped>\n",
       "    .dataframe tbody tr th:only-of-type {\n",
       "        vertical-align: middle;\n",
       "    }\n",
       "\n",
       "    .dataframe tbody tr th {\n",
       "        vertical-align: top;\n",
       "    }\n",
       "\n",
       "    .dataframe thead th {\n",
       "        text-align: right;\n",
       "    }\n",
       "</style>\n",
       "<table border=\"1\" class=\"dataframe\">\n",
       "  <thead>\n",
       "    <tr style=\"text-align: right;\">\n",
       "      <th></th>\n",
       "      <th>mondo id</th>\n",
       "      <th>chembl id</th>\n",
       "      <th>has hit</th>\n",
       "    </tr>\n",
       "  </thead>\n",
       "  <tbody>\n",
       "    <tr>\n",
       "      <th>0</th>\n",
       "      <td>MONDO:0016241</td>\n",
       "      <td>CHEMBL30008</td>\n",
       "      <td>True</td>\n",
       "    </tr>\n",
       "    <tr>\n",
       "      <th>1</th>\n",
       "      <td>MONDO:0009971</td>\n",
       "      <td>CHEMBL1472</td>\n",
       "      <td>True</td>\n",
       "    </tr>\n",
       "    <tr>\n",
       "      <th>2</th>\n",
       "      <td>MONDO:0009971</td>\n",
       "      <td>CHEMBL1201622</td>\n",
       "      <td>False</td>\n",
       "    </tr>\n",
       "    <tr>\n",
       "      <th>3</th>\n",
       "      <td>MONDO:0009971</td>\n",
       "      <td>CHEMBL1201447</td>\n",
       "      <td>False</td>\n",
       "    </tr>\n",
       "    <tr>\n",
       "      <th>4</th>\n",
       "      <td>MONDO:0009971</td>\n",
       "      <td>CHEMBL1201624</td>\n",
       "      <td>False</td>\n",
       "    </tr>\n",
       "  </tbody>\n",
       "</table>\n",
       "</div>"
      ],
      "text/plain": [
       "        mondo id      chembl id  has hit\n",
       "0  MONDO:0016241    CHEMBL30008     True\n",
       "1  MONDO:0009971     CHEMBL1472     True\n",
       "2  MONDO:0009971  CHEMBL1201622    False\n",
       "3  MONDO:0009971  CHEMBL1201447    False\n",
       "4  MONDO:0009971  CHEMBL1201624    False"
      ]
     },
     "execution_count": 4,
     "metadata": {},
     "output_type": "execute_result"
    }
   ],
   "source": [
    "ds_data.head()\n"
   ]
  },
  {
   "cell_type": "code",
   "execution_count": 41,
   "id": "dfa18641",
   "metadata": {},
   "outputs": [
    {
     "data": {
      "text/plain": [
       "True     385\n",
       "False    863\n",
       "Name: has hit, dtype: int64"
      ]
     },
     "execution_count": 41,
     "metadata": {},
     "output_type": "execute_result"
    }
   ],
   "source": [
    "count = ds_data[\"has hit\"].value_counts(sort= False)\n",
    "count"
   ]
  },
  {
   "cell_type": "code",
   "execution_count": 46,
   "id": "98c18873",
   "metadata": {},
   "outputs": [
    {
     "name": "stderr",
     "output_type": "stream",
     "text": [
      "/home/agonzalez/miniconda3/envs/wikidata/lib/python3.9/site-packages/seaborn/_decorators.py:36: FutureWarning: Pass the following variables as keyword args: x, y. From version 0.12, the only valid positional argument will be `data`, and passing other arguments without an explicit keyword will result in an error or misinterpretation.\n",
      "  warnings.warn(\n"
     ]
    },
    {
     "data": {
      "image/png": "[encoded data removed]",
      "text/plain": [
       "<Figure size 720x360 with 1 Axes>"
      ]
     },
     "metadata": {
      "needs_background": "light"
     },
     "output_type": "display_data"
    }
   ],
   "source": [
    "plt.figure(figsize=(10,5))\n",
    "g =sns.barplot(count.index, count.values, alpha=0.5,\n",
    "               palette = [\"purple\", \"lightseagreen\"])\n",
    "plt.ylabel('Pairs found', fontsize=12)\n",
    "plt.xlabel('Results', fontsize=12)\n",
    "\n",
    "plt.savefig('disease-Pheno-SmallMolecule.png', dpi = 200)"
   ]
  },
  {
   "cell_type": "code",
   "execution_count": null,
   "id": "414c6fab",
   "metadata": {},
   "outputs": [],
   "source": []
  },
  {
   "cell_type": "code",
   "execution_count": null,
   "id": "ea7c2632",
   "metadata": {},
   "outputs": [],
   "source": []
  },
  {
   "cell_type": "code",
   "execution_count": null,
   "id": "65db92c7",
   "metadata": {},
   "outputs": [],
   "source": []
  },
  {
   "cell_type": "markdown",
   "id": "6ed5532f",
   "metadata": {},
   "source": [
    "### Disease-variantGene-SmallMolecule"
   ]
  },
  {
   "cell_type": "code",
   "execution_count": 36,
   "id": "d0871890",
   "metadata": {},
   "outputs": [],
   "source": [
    "ds_data = pd.read_csv(\"../output/disease-variant-gene-smallMolecule.csv\")"
   ]
  },
  {
   "cell_type": "code",
   "execution_count": 37,
   "id": "ca765b40",
   "metadata": {},
   "outputs": [
    {
     "data": {
      "text/plain": [
       "1248"
      ]
     },
     "execution_count": 37,
     "metadata": {},
     "output_type": "execute_result"
    }
   ],
   "source": [
    "ds_data.shape[0]"
   ]
  },
  {
   "cell_type": "code",
   "execution_count": 38,
   "id": "a68096f5",
   "metadata": {},
   "outputs": [
    {
     "data": {
      "text/html": [
       "<div>\n",
       "<style scoped>\n",
       "    .dataframe tbody tr th:only-of-type {\n",
       "        vertical-align: middle;\n",
       "    }\n",
       "\n",
       "    .dataframe tbody tr th {\n",
       "        vertical-align: top;\n",
       "    }\n",
       "\n",
       "    .dataframe thead th {\n",
       "        text-align: right;\n",
       "    }\n",
       "</style>\n",
       "<table border=\"1\" class=\"dataframe\">\n",
       "  <thead>\n",
       "    <tr style=\"text-align: right;\">\n",
       "      <th></th>\n",
       "      <th>mondo id</th>\n",
       "      <th>chembl id</th>\n",
       "      <th>has hit</th>\n",
       "    </tr>\n",
       "  </thead>\n",
       "  <tbody>\n",
       "    <tr>\n",
       "      <th>0</th>\n",
       "      <td>MONDO:0016241</td>\n",
       "      <td>CHEMBL30008</td>\n",
       "      <td>False</td>\n",
       "    </tr>\n",
       "    <tr>\n",
       "      <th>1</th>\n",
       "      <td>MONDO:0009971</td>\n",
       "      <td>CHEMBL1472</td>\n",
       "      <td>True</td>\n",
       "    </tr>\n",
       "    <tr>\n",
       "      <th>2</th>\n",
       "      <td>MONDO:0009971</td>\n",
       "      <td>CHEMBL1201622</td>\n",
       "      <td>False</td>\n",
       "    </tr>\n",
       "    <tr>\n",
       "      <th>3</th>\n",
       "      <td>MONDO:0009971</td>\n",
       "      <td>CHEMBL1201447</td>\n",
       "      <td>False</td>\n",
       "    </tr>\n",
       "    <tr>\n",
       "      <th>4</th>\n",
       "      <td>MONDO:0009971</td>\n",
       "      <td>CHEMBL1201624</td>\n",
       "      <td>False</td>\n",
       "    </tr>\n",
       "  </tbody>\n",
       "</table>\n",
       "</div>"
      ],
      "text/plain": [
       "        mondo id      chembl id has hit\n",
       "0  MONDO:0016241    CHEMBL30008   False\n",
       "1  MONDO:0009971     CHEMBL1472    True\n",
       "2  MONDO:0009971  CHEMBL1201622   False\n",
       "3  MONDO:0009971  CHEMBL1201447   False\n",
       "4  MONDO:0009971  CHEMBL1201624   False"
      ]
     },
     "execution_count": 38,
     "metadata": {},
     "output_type": "execute_result"
    }
   ],
   "source": [
    "ds_data.head()"
   ]
  },
  {
   "cell_type": "code",
   "execution_count": 39,
   "id": "2cd58955",
   "metadata": {},
   "outputs": [
    {
     "data": {
      "text/plain": [
       "False            1031\n",
       "True              203\n",
       "Request error      14\n",
       "Name: has hit, dtype: int64"
      ]
     },
     "execution_count": 39,
     "metadata": {},
     "output_type": "execute_result"
    }
   ],
   "source": [
    "count =ds_data[\"has hit\"].value_counts()\n",
    "count"
   ]
  },
  {
   "cell_type": "code",
   "execution_count": 41,
   "id": "0041b31a",
   "metadata": {},
   "outputs": [
    {
     "name": "stderr",
     "output_type": "stream",
     "text": [
      "/home/agonzalez/miniconda3/envs/wikidata/lib/python3.9/site-packages/seaborn/_decorators.py:36: FutureWarning: Pass the following variables as keyword args: x, y. From version 0.12, the only valid positional argument will be `data`, and passing other arguments without an explicit keyword will result in an error or misinterpretation.\n",
      "  warnings.warn(\n"
     ]
    },
    {
     "data": {
      "image/png": "[encoded data removed]",
      "text/plain": [
       "<Figure size 720x360 with 1 Axes>"
      ]
     },
     "metadata": {
      "needs_background": "light"
     },
     "output_type": "display_data"
    }
   ],
   "source": [
    "plt.figure(figsize=(10,5))\n",
    "g =sns.barplot(count.index, count.values, alpha=0.5, palette = [\"purple\", \"lightseagreen\", \"green\"])\n",
    "plt.title('Disease-variantGene-Compound')\n",
    "plt.ylabel('Pairs found', fontsize=12)\n",
    "plt.xlabel('Results', fontsize=12)\n",
    "\n",
    "plt.savefig('disease-variantGene-SmallMolecule.png', dpi = 200)"
   ]
  },
  {
   "cell_type": "markdown",
   "id": "63ca2328",
   "metadata": {},
   "source": [
    "### Disease-Phenotype-Gene-SmallMolecule"
   ]
  },
  {
   "cell_type": "code",
   "execution_count": 8,
   "id": "423d2411",
   "metadata": {},
   "outputs": [],
   "source": [
    "ds_data = pd.read_csv(\"../output/disease-phenotype-gene-smallMolecule.csv\")"
   ]
  },
  {
   "cell_type": "code",
   "execution_count": 9,
   "id": "4360345e",
   "metadata": {},
   "outputs": [
    {
     "data": {
      "text/plain": [
       "1248"
      ]
     },
     "execution_count": 9,
     "metadata": {},
     "output_type": "execute_result"
    }
   ],
   "source": [
    "ds_data.shape[0]"
   ]
  },
  {
   "cell_type": "code",
   "execution_count": 10,
   "id": "136de05b",
   "metadata": {},
   "outputs": [
    {
     "data": {
      "text/html": [
       "<div>\n",
       "<style scoped>\n",
       "    .dataframe tbody tr th:only-of-type {\n",
       "        vertical-align: middle;\n",
       "    }\n",
       "\n",
       "    .dataframe tbody tr th {\n",
       "        vertical-align: top;\n",
       "    }\n",
       "\n",
       "    .dataframe thead th {\n",
       "        text-align: right;\n",
       "    }\n",
       "</style>\n",
       "<table border=\"1\" class=\"dataframe\">\n",
       "  <thead>\n",
       "    <tr style=\"text-align: right;\">\n",
       "      <th></th>\n",
       "      <th>mondo id</th>\n",
       "      <th>chembl id</th>\n",
       "      <th>has hit</th>\n",
       "    </tr>\n",
       "  </thead>\n",
       "  <tbody>\n",
       "    <tr>\n",
       "      <th>0</th>\n",
       "      <td>MONDO:0016241</td>\n",
       "      <td>CHEMBL30008</td>\n",
       "      <td>True</td>\n",
       "    </tr>\n",
       "    <tr>\n",
       "      <th>1</th>\n",
       "      <td>MONDO:0009971</td>\n",
       "      <td>CHEMBL1472</td>\n",
       "      <td>True</td>\n",
       "    </tr>\n",
       "    <tr>\n",
       "      <th>2</th>\n",
       "      <td>MONDO:0009971</td>\n",
       "      <td>CHEMBL1201622</td>\n",
       "      <td>False</td>\n",
       "    </tr>\n",
       "    <tr>\n",
       "      <th>3</th>\n",
       "      <td>MONDO:0009971</td>\n",
       "      <td>CHEMBL1201447</td>\n",
       "      <td>False</td>\n",
       "    </tr>\n",
       "    <tr>\n",
       "      <th>4</th>\n",
       "      <td>MONDO:0009971</td>\n",
       "      <td>CHEMBL1201624</td>\n",
       "      <td>False</td>\n",
       "    </tr>\n",
       "  </tbody>\n",
       "</table>\n",
       "</div>"
      ],
      "text/plain": [
       "        mondo id      chembl id has hit\n",
       "0  MONDO:0016241    CHEMBL30008    True\n",
       "1  MONDO:0009971     CHEMBL1472    True\n",
       "2  MONDO:0009971  CHEMBL1201622   False\n",
       "3  MONDO:0009971  CHEMBL1201447   False\n",
       "4  MONDO:0009971  CHEMBL1201624   False"
      ]
     },
     "execution_count": 10,
     "metadata": {},
     "output_type": "execute_result"
    }
   ],
   "source": [
    "ds_data.head()"
   ]
  },
  {
   "cell_type": "code",
   "execution_count": 11,
   "id": "52ca5271",
   "metadata": {},
   "outputs": [
    {
     "data": {
      "text/plain": [
       "True             883\n",
       "False            353\n",
       "Request error     12\n",
       "Name: has hit, dtype: int64"
      ]
     },
     "execution_count": 11,
     "metadata": {},
     "output_type": "execute_result"
    }
   ],
   "source": [
    "count = ds_data[\"has hit\"].value_counts()\n",
    "count "
   ]
  },
  {
   "cell_type": "code",
   "execution_count": 12,
   "id": "98c18873",
   "metadata": {},
   "outputs": [
    {
     "name": "stderr",
     "output_type": "stream",
     "text": [
      "/home/agonzalez/miniconda3/envs/wikidata/lib/python3.9/site-packages/seaborn/_decorators.py:36: FutureWarning: Pass the following variables as keyword args: x, y. From version 0.12, the only valid positional argument will be `data`, and passing other arguments without an explicit keyword will result in an error or misinterpretation.\n",
      "  warnings.warn(\n"
     ]
    },
    {
     "data": {
      "image/png": "[encoded data removed]",
      "text/plain": [
       "<Figure size 720x360 with 1 Axes>"
      ]
     },
     "metadata": {
      "needs_background": "light"
     },
     "output_type": "display_data"
    }
   ],
   "source": [
    "plt.figure(figsize=(10,5))\n",
    "g =sns.barplot(count.index, count.values, alpha=0.5, palette = [\"lightseagreen\", \"purple\", \"green\"])\n",
    "plt.title('Disease-Pheno-Gene-Compound')\n",
    "plt.ylabel('Pairs found', fontsize=12)\n",
    "plt.xlabel('Results', fontsize=12)\n",
    "\n",
    "plt.savefig('disease-SmallMolecule.png', dpi = 200)"
   ]
  },
  {
   "cell_type": "markdown",
   "id": "cd2185f1",
   "metadata": {},
   "source": [
    "### Disease-BiologicalProcess-SmallMolecule"
   ]
  },
  {
   "cell_type": "code",
   "execution_count": 13,
   "id": "423d2411",
   "metadata": {},
   "outputs": [],
   "source": [
    "ds_data = pd.read_csv(\"../output/disease-BiologicalProcess-smallMolecule.csv\")"
   ]
  },
  {
   "cell_type": "code",
   "execution_count": 14,
   "id": "4360345e",
   "metadata": {},
   "outputs": [
    {
     "data": {
      "text/plain": [
       "1248"
      ]
     },
     "execution_count": 14,
     "metadata": {},
     "output_type": "execute_result"
    }
   ],
   "source": [
    "ds_data.shape[0]"
   ]
  },
  {
   "cell_type": "code",
   "execution_count": 15,
   "id": "136de05b",
   "metadata": {},
   "outputs": [
    {
     "data": {
      "text/html": [
       "<div>\n",
       "<style scoped>\n",
       "    .dataframe tbody tr th:only-of-type {\n",
       "        vertical-align: middle;\n",
       "    }\n",
       "\n",
       "    .dataframe tbody tr th {\n",
       "        vertical-align: top;\n",
       "    }\n",
       "\n",
       "    .dataframe thead th {\n",
       "        text-align: right;\n",
       "    }\n",
       "</style>\n",
       "<table border=\"1\" class=\"dataframe\">\n",
       "  <thead>\n",
       "    <tr style=\"text-align: right;\">\n",
       "      <th></th>\n",
       "      <th>mondo id</th>\n",
       "      <th>chembl id</th>\n",
       "      <th>has hit</th>\n",
       "    </tr>\n",
       "  </thead>\n",
       "  <tbody>\n",
       "    <tr>\n",
       "      <th>0</th>\n",
       "      <td>MONDO:0016241</td>\n",
       "      <td>CHEMBL30008</td>\n",
       "      <td>False</td>\n",
       "    </tr>\n",
       "    <tr>\n",
       "      <th>1</th>\n",
       "      <td>MONDO:0009971</td>\n",
       "      <td>CHEMBL1472</td>\n",
       "      <td>False</td>\n",
       "    </tr>\n",
       "    <tr>\n",
       "      <th>2</th>\n",
       "      <td>MONDO:0009971</td>\n",
       "      <td>CHEMBL1201622</td>\n",
       "      <td>False</td>\n",
       "    </tr>\n",
       "    <tr>\n",
       "      <th>3</th>\n",
       "      <td>MONDO:0009971</td>\n",
       "      <td>CHEMBL1201447</td>\n",
       "      <td>False</td>\n",
       "    </tr>\n",
       "    <tr>\n",
       "      <th>4</th>\n",
       "      <td>MONDO:0009971</td>\n",
       "      <td>CHEMBL1201624</td>\n",
       "      <td>False</td>\n",
       "    </tr>\n",
       "  </tbody>\n",
       "</table>\n",
       "</div>"
      ],
      "text/plain": [
       "        mondo id      chembl id  has hit\n",
       "0  MONDO:0016241    CHEMBL30008    False\n",
       "1  MONDO:0009971     CHEMBL1472    False\n",
       "2  MONDO:0009971  CHEMBL1201622    False\n",
       "3  MONDO:0009971  CHEMBL1201447    False\n",
       "4  MONDO:0009971  CHEMBL1201624    False"
      ]
     },
     "execution_count": 15,
     "metadata": {},
     "output_type": "execute_result"
    }
   ],
   "source": [
    "ds_data.head()"
   ]
  },
  {
   "cell_type": "code",
   "execution_count": 16,
   "id": "52ca5271",
   "metadata": {},
   "outputs": [
    {
     "data": {
      "text/plain": [
       "False    1132\n",
       "True      116\n",
       "Name: has hit, dtype: int64"
      ]
     },
     "execution_count": 16,
     "metadata": {},
     "output_type": "execute_result"
    }
   ],
   "source": [
    "count  = ds_data[\"has hit\"].value_counts()\n",
    "count"
   ]
  },
  {
   "cell_type": "code",
   "execution_count": 17,
   "id": "61583780",
   "metadata": {},
   "outputs": [
    {
     "name": "stderr",
     "output_type": "stream",
     "text": [
      "/home/agonzalez/miniconda3/envs/wikidata/lib/python3.9/site-packages/seaborn/_decorators.py:36: FutureWarning: Pass the following variables as keyword args: x, y. From version 0.12, the only valid positional argument will be `data`, and passing other arguments without an explicit keyword will result in an error or misinterpretation.\n",
      "  warnings.warn(\n"
     ]
    },
    {
     "data": {
      "image/png": "[encoded data removed]",
      "text/plain": [
       "<Figure size 720x360 with 1 Axes>"
      ]
     },
     "metadata": {
      "needs_background": "light"
     },
     "output_type": "display_data"
    }
   ],
   "source": [
    "plt.figure(figsize=(10,5))\n",
    "g =sns.barplot(count.index, count.values, alpha=0.5, palette = [\"purple\", \"lightseagreen\", \"green\"])\n",
    "plt.title('Disease-Compound')\n",
    "plt.ylabel('Pairs found', fontsize=12)\n",
    "plt.xlabel('Results', fontsize=12)\n",
    "\n",
    "plt.savefig('disease-BiologicalProcess-SmallMolecule.png', dpi = 200)"
   ]
  },
  {
   "cell_type": "code",
   "execution_count": null,
   "id": "8f3ee1b3",
   "metadata": {},
   "outputs": [],
   "source": []
  },
  {
   "cell_type": "code",
   "execution_count": null,
   "id": "6cd6d6cc",
   "metadata": {},
   "outputs": [],
   "source": []
  }
 ],
 "metadata": {
  "kernelspec": {
   "display_name": "wikidata",
   "language": "python",
   "name": "wikidata"
  },
  "language_info": {
   "codemirror_mode": {
    "name": "ipython",
    "version": 3
   },
   "file_extension": ".py",
   "mimetype": "text/x-python",
   "name": "python",
   "nbconvert_exporter": "python",
   "pygments_lexer": "ipython3",
   "version": "3.9.6"
  }
 },
 "nbformat": 4,
 "nbformat_minor": 5
}
